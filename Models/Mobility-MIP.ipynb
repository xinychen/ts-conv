{
 "cells": [
  {
   "cell_type": "markdown",
   "id": "1089112f-bf86-49f9-848d-ed338fc84ed7",
   "metadata": {},
   "source": [
    "## Learning Convolutional Kernels with MIP"
   ]
  },
  {
   "cell_type": "code",
   "execution_count": 1,
   "id": "2fef7afb-68c8-48fc-8571-388377ac5501",
   "metadata": {},
   "outputs": [],
   "source": [
    "import numpy as np\n",
    "from docplex.mp.model import Model\n",
    "\n",
    "def kernel_mip(data, tau):\n",
    "    model = Model(name = 'Sparse Autoregression')\n",
    "    T = data.shape[0]\n",
    "    w = [model.continuous_var(lb = 0, name = f'w_{k}') for k in range(T - 1)]\n",
    "    beta = [model.binary_var(name = f'beta_{k}') for k in range(T - 1)]\n",
    "    error = [data[t] - model.sum(w[k] * data[t - k - 1] for k in range(T - 1)) for t in range(T)]\n",
    "    model.minimize(model.sum(r ** 2 for r in error))\n",
    "    model.add_constraint(model.sum(beta[k] for k in range(T - 1)) <= tau)\n",
    "    for k in range(T - 1):\n",
    "        model.add_constraint(w[k] <= beta[k])\n",
    "    solution = model.solve()\n",
    "    if solution:\n",
    "        w_coef = np.array(solution.get_values(w))\n",
    "        error = 0\n",
    "        for t in range(T):\n",
    "            a = data[t]\n",
    "            for k in range(T - 1):\n",
    "                a -= w_coef[k] * data[t - k - 1]\n",
    "            error += a ** 2\n",
    "        print('Objective function: {}'.format(error))\n",
    "        ind = np.where(w_coef > 0)[0].tolist()\n",
    "        print('Support set: ', ind)\n",
    "        print('Coefficients w: ', w_coef[ind])\n",
    "        print('Cardinality of support set: ', len(ind))\n",
    "        return w_coef, ind\n",
    "    else:\n",
    "        print('No solution found.')\n",
    "        return None"
   ]
  },
  {
   "cell_type": "markdown",
   "id": "53ecb2c5-efff-4ef5-83a9-0398d4ab7128",
   "metadata": {},
   "source": [
    "## Learning Convolutional Kernels with NNSP"
   ]
  },
  {
   "cell_type": "code",
   "execution_count": 2,
   "id": "9a3752be-8a8d-4489-b166-29a8e21efc7d",
   "metadata": {},
   "outputs": [],
   "source": [
    "import numpy as np\n",
    "from scipy.optimize import nnls\n",
    "\n",
    "def circ_mat(vec):\n",
    "    n = vec.shape[0]\n",
    "    mat = np.zeros((n, n))\n",
    "    mat[:, 0] = vec\n",
    "    for i in range(1, n):\n",
    "        mat[:, i] = np.append(vec[-i :], vec[: -i])\n",
    "    return mat\n",
    "\n",
    "def SP(A, x, tau, stop = np.infty, nonnegative = True, epsilon = 1e-2):\n",
    "    m, n = A.shape\n",
    "    r = x\n",
    "    w = np.zeros(n)\n",
    "    S = np.array([])\n",
    "    i = 0\n",
    "    while np.linalg.norm(r, 2) > epsilon and i < stop:\n",
    "        Ar = A.T @ r\n",
    "        S0 = np.argsort(abs(Ar))[- tau :]\n",
    "        S = np.append(S[:], S0[:]).astype(int)\n",
    "        if nonnegative == True:\n",
    "            w[S], _ = nnls(A[:, S], x)\n",
    "        elif nonnegative == False:\n",
    "            w[S] = np.linalg.pinv(A[:, S]) @ x\n",
    "        S = np.argsort(abs(w))[- tau :]\n",
    "        w = np.zeros(n)\n",
    "        if nonnegative == True:\n",
    "            w[S], _ = nnls(A[:, S], x)\n",
    "        elif nonnegative == False:\n",
    "            w[S] = np.linalg.pinv(A[:, S]) @ x\n",
    "        r = x - A[:, S] @ w[S]\n",
    "        i += 1\n",
    "    return w, S, r"
   ]
  },
  {
   "cell_type": "markdown",
   "id": "a7ae7505-52d3-4217-abe1-091b4136754b",
   "metadata": {},
   "source": [
    "## Two-Week Trip Time Series of Chicago\n",
    "\n",
    "### Optimization with MIP"
   ]
  },
  {
   "cell_type": "code",
   "execution_count": 3,
   "id": "b3ac5122-3d41-4fa8-886a-9f23e00848b3",
   "metadata": {},
   "outputs": [
    {
     "name": "stdout",
     "output_type": "stream",
     "text": [
      "Objective function: 76747968.5653466\n",
      "Support set:  [0, 167, 334]\n",
      "Coefficients w:  [0.33677239 0.33329912 0.33677239]\n",
      "Cardinality of support set:  3\n",
      "Running time (s): 30.78903079032898\n"
     ]
    }
   ],
   "source": [
    "import numpy as np\n",
    "import time\n",
    "\n",
    "tensor = np.load('../Chicago-data/Chicago_rideshare_mob_tensor_24.npz')['arr_0'][:, :, : 14 * 24]\n",
    "data = np.sum(np.sum(tensor, axis = 0), axis = 0)\n",
    "tau = 3\n",
    "\n",
    "start = time.time()\n",
    "w, ind = kernel_mip(data, tau)\n",
    "end = time.time()\n",
    "print('Running time (s):', end - start)"
   ]
  },
  {
   "cell_type": "markdown",
   "id": "1a5ae0c0-7884-4dab-a72e-2520132bdba0",
   "metadata": {},
   "source": [
    "### Optimization with NNSP"
   ]
  },
  {
   "cell_type": "code",
   "execution_count": 4,
   "id": "d74f9c4d-4bd2-454e-97ba-d57722911d12",
   "metadata": {},
   "outputs": [
    {
     "name": "stdout",
     "output_type": "stream",
     "text": [
      "Indices of non-zero coefficients (support set): [167 334   0]\n",
      "Non-zero entries of sparse temporal kernel: [0.33329912 0.33677239 0.33677239]\n",
      "Loss function: 76747968.56534657\n",
      "Running time (s): 0.001653909683227539\n"
     ]
    }
   ],
   "source": [
    "import numpy as np\n",
    "import time\n",
    "\n",
    "tensor = np.load('../Chicago-data/Chicago_rideshare_mob_tensor_24.npz')['arr_0'][:, :, : 14 * 24]\n",
    "data = np.sum(np.sum(tensor, axis = 0), axis = 0)\n",
    "tau = 3\n",
    "\n",
    "start = time.time()\n",
    "w, S, r = SP(circ_mat(data)[:, 1 :], data, tau, 5, True)\n",
    "end = time.time()\n",
    "print('Indices of non-zero coefficients (support set):', S)\n",
    "print('Non-zero entries of sparse temporal kernel:', w[S])\n",
    "print('Loss function:', np.linalg.norm(r, 2) ** 2)\n",
    "print('Running time (s):', end - start)"
   ]
  },
  {
   "cell_type": "markdown",
   "id": "6611fa19-474f-49ef-91f4-bf848748a1e2",
   "metadata": {},
   "source": [
    "### License\n",
    "\n",
    "<div class=\"alert alert-block alert-danger\">\n",
    "<b>This work is released under the MIT license.</b>\n",
    "</div>"
   ]
  }
 ],
 "metadata": {
  "kernelspec": {
   "display_name": "Python 3 (ipykernel)",
   "language": "python",
   "name": "python3"
  },
  "language_info": {
   "codemirror_mode": {
    "name": "ipython",
    "version": 3
   },
   "file_extension": ".py",
   "mimetype": "text/x-python",
   "name": "python",
   "nbconvert_exporter": "python",
   "pygments_lexer": "ipython3",
   "version": "3.11.7"
  }
 },
 "nbformat": 4,
 "nbformat_minor": 5
}
